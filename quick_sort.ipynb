{
 "cells": [
  {
   "cell_type": "markdown",
   "metadata": {},
   "source": [
    "\n",
    "## Quick Sort"
   ]
  },
  {
   "cell_type": "markdown",
   "metadata": {},
   "source": [
    "The three steps of quick sort are as follows:"
   ]
  },
  {
   "cell_type": "markdown",
   "metadata": {},
   "source": [
    "**Divide**: Split the array into two sub arrays that each element in the left sub array is less than or equal the middle element and each element in the right sub array is greater than the middle element. The splitting of the array into two sub arrays is based on pivot element. All the elements that are less than pivot should be in left subarray and all the elements that are more than pivot should be in right subarray.\n",
    "\n",
    "**Conquer**: Recursively sort the two sub arrays.\n",
    "\n",
    "**Combine**: Combine all the sorted elements in a group to form a list of sorted elements."
   ]
  },
  {
   "cell_type": "markdown",
   "metadata": {},
   "source": [
    "## Algorithm"
   ]
  },
  {
   "cell_type": "markdown",
   "metadata": {},
   "source": [
    "The quick sort algorithm is performed using following two important functions -\n",
    "\n",
    "*Quick* and *partition*. "
   ]
  },
  {
   "cell_type": "raw",
   "metadata": {},
   "source": [
    "Quick(A[0...n-1], low, high)\n",
    "\n",
    "Problem description: This algorithm performs sorting of the elements given in array A[0...n-1]\n",
    "\n",
    "Input: An array A[0...n-1] in which unsorted elements are given. The low indicates the leftmost element in the list and high indicates the rightmost element in the list.\n",
    "\n",
    "Output: Creates a subarray which is sorted in ascending order.\n",
    "\n",
    "if(low < high) then\n",
    "split the array into two sub arrays\n",
    "\n",
    "m ← partition(A[low...high]) //m is mid of the array\n",
    "Quick(A[low...m-1])\n",
    "Quick(A[mid+1...high])"
   ]
  },
  {
   "cell_type": "markdown",
   "metadata": {},
   "source": [
    "In above algorithm call to partition algorithm is given. The *partition* performs arrangement of the elements in ascending order. The recursive *quick* routine is for dividing the list in two sub lists. The pseudo code for *Partition* is as given below -"
   ]
  },
  {
   "cell_type": "raw",
   "metadata": {},
   "source": [
    "Partition(A[low...high])\n",
    "\n",
    "Problem description: This algorithm partitions the subarray using the first element as pivot element.\n",
    "\n",
    "Input: A subarray A with low as leftmost index of the array and high as the rightmost index of the array.\n",
    "\n",
    "Output: The partitioning of array A is done and pivot occupies it proper position and the rightmost index of the list is returned.\n",
    "\n",
    "pivot ← A[low]\n",
    "i ← low\n",
    "j ← high + 1\n",
    "\n",
    "while(i <= j) do\n",
    "{\n",
    "while(A[i] <= pivot) do\n",
    "i ← i + 1\n",
    "while(A[j] >= pivot) do\n",
    "j ← j - 1\n",
    "\n",
    "if(i <= j) then\n",
    "    swap(A[i], A[j]) //swaps A[i] and A[j]\n",
    "}\n",
    "\n",
    "swaps(A[low], A[j]) //when i crosses j swap A[low] and A[j]\n",
    "return j //rightmost index of the list"
   ]
  },
  {
   "cell_type": "markdown",
   "metadata": {},
   "source": [
    "The partition function is called to arrange the elements such that all the elements that are less than pivot are at the left side of pivot and all the elemnts that are greater than pivot are all at the right of pivot. In other words pivot is occupying its proper position and the partitioned list is obtained in an ordered manner."
   ]
  },
  {
   "cell_type": "markdown",
   "metadata": {},
   "source": [
    "## Stepwise implementation of program"
   ]
  },
  {
   "cell_type": "markdown",
   "metadata": {},
   "source": [
    "1. Create a function quicksort that takes a list and two variables start and end as arguments.\n",
    "2. If end – start is not greater than 1, return.\n",
    "3. Find the index of the pivot, p by calling the function partition with the list and variables start and end as arguments.\n",
    "4. Call quicksort with the list and the variables start and p as arguments to sort the list from start to p – 1.\n",
    "5. Call quicksort with the list, the expression p + 1 and end as arguments to sort the list from p + 1 to end – 1.\n",
    "6. Define the function partition that takes a list and two variables start and end as arguments.\n",
    "7. The function parititon uses Hoare’s partition scheme to partition the list."
   ]
  },
  {
   "cell_type": "code",
   "execution_count": 1,
   "metadata": {},
   "outputs": [
    {
     "name": "stdout",
     "output_type": "stream",
     "text": [
      "Enter the list of numbers: 43 12 57 9 -4 26\n",
      "Sorted list: [-4, 9, 12, 26, 43, 57]\n"
     ]
    }
   ],
   "source": [
    "def quicksort(alist, start, end):\n",
    "    '''Sorts the list from indexes start to end - 1 inclusive.'''\n",
    "    if end - start > 1:\n",
    "        p = partition(alist, start, end)\n",
    "        quicksort(alist, start, p)\n",
    "        quicksort(alist, p + 1, end)\n",
    " \n",
    " \n",
    "def partition(alist, start, end):\n",
    "    pivot = alist[start]\n",
    "    i = start + 1\n",
    "    j = end - 1\n",
    " \n",
    "    while True:\n",
    "        while (i <= j and alist[i] <= pivot):\n",
    "            i = i + 1\n",
    "        while (i <= j and alist[j] >= pivot):\n",
    "            j = j - 1\n",
    " \n",
    "        if i <= j:\n",
    "            alist[i], alist[j] = alist[j], alist[i]\n",
    "        else:\n",
    "            alist[start], alist[j] = alist[j], alist[start]\n",
    "            return j\n",
    " \n",
    " \n",
    "alist = input('Enter the list of numbers: ').split()\n",
    "alist = [int(x) for x in alist]\n",
    "quicksort(alist, 0, len(alist))\n",
    "print('Sorted list: ', end='')\n",
    "print(alist)"
   ]
  },
  {
   "cell_type": "markdown",
   "metadata": {},
   "source": [
    "## Analysis"
   ]
  },
  {
   "cell_type": "markdown",
   "metadata": {},
   "source": [
    "When pivot is chosen such that the array gets divided at the mid then it gives the best case time complexity. The best case time complexity of quick sort is **O(nlog<sub>2</sub>n)**.\n",
    "\n",
    "The worst case for quick sort occurs when the pivot is minimum or maximum of all the elements in the list. This ultimately results in **O(n<sup>2</sup>)** time complexity. When array elements are randomly distributed then it results in average case time complexity, and it is **O(nlog<sub>2</sub>n)**."
   ]
  }
 ],
 "metadata": {
  "kernelspec": {
   "display_name": "Python 3",
   "language": "python",
   "name": "python3"
  },
  "language_info": {
   "codemirror_mode": {
    "name": "ipython",
    "version": 3
   },
   "file_extension": ".py",
   "mimetype": "text/x-python",
   "name": "python",
   "nbconvert_exporter": "python",
   "pygments_lexer": "ipython3",
   "version": "3.8.5"
  }
 },
 "nbformat": 4,
 "nbformat_minor": 4
}
