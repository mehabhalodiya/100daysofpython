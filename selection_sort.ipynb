{
 "cells": [
  {
   "cell_type": "markdown",
   "metadata": {},
   "source": [
    "## Algorithm"
   ]
  },
  {
   "cell_type": "markdown",
   "metadata": {},
   "source": [
    "Given a list L of n elements with values or records L0, L1, …, Ln-1, bubble sort is applied to sort the list L.\n",
    "\n",
    "1. Find the smallest element in the array\n",
    "2. Swap the position(index) of the first element with the smallest element\n",
    "3. Repeat the step 1 from 2nd element in the array and continue until all elements are sorted\n",
    "4. Return the final sorted list."
   ]
  },
  {
   "cell_type": "markdown",
   "metadata": {},
   "source": [
    "## Stepwise implementation of program:"
   ]
  },
  {
   "cell_type": "markdown",
   "metadata": {},
   "source": [
    "1. Create a function selection_sort that takes a list as argument.\n",
    "2. Inside the function create a loop with a loop variable i that counts from 0 to the length of the list – 1.\n",
    "3. Create a variable smallest with initial value i.\n",
    "4. Create an inner loop with a loop variable j that counts from i + 1 up to the length of the list – 1.\n",
    "5. Inside the inner loop, if the elements at index j is smaller than the element at index smallest, then set smallest equal to j.\n",
    "6. After the inner loop finishes, swap the elements at indexes i and smallest."
   ]
  },
  {
   "cell_type": "markdown",
   "metadata": {},
   "source": [
    "## Selection sort"
   ]
  },
  {
   "cell_type": "code",
   "execution_count": 1,
   "metadata": {},
   "outputs": [
    {
     "name": "stdout",
     "output_type": "stream",
     "text": [
      "Enter the list of numbers: 16 3 52 37 21 7\n",
      "Sorted list: [3, 7, 16, 21, 37, 52]\n"
     ]
    }
   ],
   "source": [
    "def selection_sort(alist):\n",
    "    for i in range(0, len(alist) - 1):\n",
    "        smallest = i\n",
    "        for j in range(i + 1, len(alist)):\n",
    "            if alist[j] < alist[smallest]:\n",
    "                smallest = j\n",
    "        alist[i], alist[smallest] = alist[smallest], alist[i]\n",
    " \n",
    "alist = input('Enter the list of numbers: ').split()\n",
    "alist = [int(x) for x in alist]\n",
    "selection_sort(alist)\n",
    "print('Sorted list: ', end='')\n",
    "print(alist)"
   ]
  }
 ],
 "metadata": {
  "kernelspec": {
   "display_name": "Python 3",
   "language": "python",
   "name": "python3"
  },
  "language_info": {
   "codemirror_mode": {
    "name": "ipython",
    "version": 3
   },
   "file_extension": ".py",
   "mimetype": "text/x-python",
   "name": "python",
   "nbconvert_exporter": "python",
   "pygments_lexer": "ipython3",
   "version": "3.8.5"
  }
 },
 "nbformat": 4,
 "nbformat_minor": 4
}
