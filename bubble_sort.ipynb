{
 "cells": [
  {
   "cell_type": "markdown",
   "metadata": {},
   "source": [
    "## Bubble sort using FOR loop"
   ]
  },
  {
   "cell_type": "code",
   "execution_count": 1,
   "metadata": {},
   "outputs": [
    {
     "name": "stdout",
     "output_type": "stream",
     "text": [
      "Please enter the total number of elements: 4\n",
      "Please enter the 0 elemnt of list: 31\n",
      "Please enter the 1 elemnt of list: -10\n",
      "Please enter the 2 elemnt of list: 12\n",
      "Please enter the 3 elemnt of list: 27\n",
      "The sorted list in ascending order:  [-10, 12, 27, 31]\n"
     ]
    }
   ],
   "source": [
    "a = []\n",
    "number = int(input(\"Please enter the total number of elements: \"))\n",
    "for i in range(number):\n",
    "    value = int(input(\"Please enter the %d elemnt of list: \" %i))\n",
    "    a.append(value)\n",
    "\n",
    "for i in range(number - 1):\n",
    "    for j in range(number - i - 1):\n",
    "        if(a[j] > a[j + 1]):\n",
    "            temp = a[j]\n",
    "            a[j] = a[j + 1]\n",
    "            a[j + 1] = temp\n",
    "            \n",
    "print(\"The sorted list in ascending order: \", a)"
   ]
  },
  {
   "cell_type": "markdown",
   "metadata": {},
   "source": [
    "## Bubble sort using WHILE loop"
   ]
  },
  {
   "cell_type": "code",
   "execution_count": 2,
   "metadata": {},
   "outputs": [
    {
     "name": "stdout",
     "output_type": "stream",
     "text": [
      "Please enter the total number of elements: 5\n",
      "Please enter the 0 element of list: 9\n",
      "Please enter the 1 element of list: -4\n",
      "Please enter the 2 element of list: 14\n",
      "Please enter the 3 element of list: 2\n",
      "Please enter the 4 element of list: -2\n",
      "The sorted element in ascending order:  [-4, -2, 2, 9, 14]\n"
     ]
    }
   ],
   "source": [
    "a = []\n",
    "number = int(input(\"Please enter the total number of elements: \"))\n",
    "for i in range(number):\n",
    "    value = int(input(\"Please enter the %d element of list: \" %i))\n",
    "    a.append(value)\n",
    "    \n",
    "i = 0\n",
    "while(i < number - 1):\n",
    "    j = 0\n",
    "    while(j < number - i - 1):\n",
    "        if(a[j] > a[j + 1]):\n",
    "            temp = a[j]\n",
    "            a[j] = a[j + 1]\n",
    "            a[j + 1] = temp\n",
    "        j = j + 1\n",
    "    i = i + 1\n",
    "    \n",
    "print(\"The sorted element in ascending order: \", a)"
   ]
  },
  {
   "cell_type": "markdown",
   "metadata": {},
   "source": [
    "## Bubble sort using function"
   ]
  },
  {
   "cell_type": "code",
   "execution_count": 3,
   "metadata": {},
   "outputs": [
    {
     "name": "stdout",
     "output_type": "stream",
     "text": [
      "Please Enter the Total Number of Elements : 4\n",
      "Please enter the 0 Element of List1 : 1\n",
      "Please enter the 1 Element of List1 : -1\n",
      "Please enter the 2 Element of List1 : 0\n",
      "Please enter the 3 Element of List1 : 2\n",
      "The Sorted List in Ascending Order :  [-1, 0, 1, 2]\n"
     ]
    }
   ],
   "source": [
    "def bubblesort(a, number):\n",
    "    for i in range(number - 1):\n",
    "        for j in range(number - i - 1):\n",
    "            if(a[j] > a[j + 1]):\n",
    "                temp = a[j]\n",
    "                a[j] = a[j + 1]\n",
    "                a[j + 1] = temp\n",
    "\n",
    "a = []\n",
    "number = int(input(\"Please Enter the Total Number of Elements : \"))\n",
    "for i in range(number):\n",
    "    value = int(input(\"Please enter the %d Element of List1 : \" %i))\n",
    "    a.append(value)\n",
    "\n",
    "bubblesort(a, number)\n",
    "print(\"The Sorted List in Ascending Order : \", a)"
   ]
  }
 ],
 "metadata": {
  "kernelspec": {
   "display_name": "Python 3",
   "language": "python",
   "name": "python3"
  },
  "language_info": {
   "codemirror_mode": {
    "name": "ipython",
    "version": 3
   },
   "file_extension": ".py",
   "mimetype": "text/x-python",
   "name": "python",
   "nbconvert_exporter": "python",
   "pygments_lexer": "ipython3",
   "version": "3.8.5"
  }
 },
 "nbformat": 4,
 "nbformat_minor": 4
}
