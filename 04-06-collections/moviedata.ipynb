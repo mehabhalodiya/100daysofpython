{
 "cells": [
  {
   "cell_type": "markdown",
   "metadata": {},
   "source": [
    "## Third day: tried using movie data"
   ]
  },
  {
   "cell_type": "markdown",
   "metadata": {},
   "source": [
    "Let's make a defaultdict of movies per directory (keys = directors, values = list of movies)."
   ]
  },
  {
   "cell_type": "code",
   "execution_count": 1,
   "metadata": {},
   "outputs": [],
   "source": [
    "from collections import defaultdict, namedtuple, Counter, deque\n",
    "import csv\n",
    "import random\n",
    "from urllib.request import urlretrieve"
   ]
  },
  {
   "cell_type": "code",
   "execution_count": 2,
   "metadata": {},
   "outputs": [
    {
     "data": {
      "text/plain": [
       "('movies.csv', <http.client.HTTPMessage at 0x7fab84d5b700>)"
      ]
     },
     "execution_count": 2,
     "metadata": {},
     "output_type": "execute_result"
    }
   ],
   "source": [
    "movie_data = 'https://raw.githubusercontent.com/pybites/challenges/solutions/13/movie_metadata.csv'\n",
    "movies_csv = 'movies.csv'\n",
    "urlretrieve(movie_data, movies_csv)"
   ]
  },
  {
   "cell_type": "markdown",
   "metadata": {},
   "source": [
    "A namedtuple is ideal here to describe a movie so we can access movie attributes (e.g. movie.score):"
   ]
  },
  {
   "cell_type": "code",
   "execution_count": 3,
   "metadata": {},
   "outputs": [],
   "source": [
    "Movie = namedtuple('Movie', 'title year score')"
   ]
  },
  {
   "cell_type": "markdown",
   "metadata": {},
   "source": [
    "We need some CSV parsing as well here:"
   ]
  },
  {
   "cell_type": "code",
   "execution_count": 4,
   "metadata": {},
   "outputs": [],
   "source": [
    "def get_movies_by_director(data=movies_csv):\n",
    "    \"\"\"Extracts all movies from csv and stores them in a dictionary\n",
    "       where keys are directors, and values is a list of movies (named tuples)\"\"\"\n",
    "    directors = defaultdict(list)\n",
    "    with open(data, encoding='utf-8') as f:\n",
    "        for line in csv.DictReader(f):\n",
    "            try:\n",
    "                director = line['director_name']\n",
    "                movie = line['movie_title'].replace('\\xa0', '')\n",
    "                year = int(line['title_year'])\n",
    "                score = float(line['imdb_score'])\n",
    "            except ValueError:\n",
    "                continue\n",
    "\n",
    "            m = Movie(title=movie, year=year, score=score)\n",
    "            directors[director].append(m)\n",
    "\n",
    "    return directors"
   ]
  },
  {
   "cell_type": "code",
   "execution_count": 5,
   "metadata": {},
   "outputs": [],
   "source": [
    "directors = get_movies_by_director()"
   ]
  },
  {
   "cell_type": "markdown",
   "metadata": {},
   "source": [
    "Looking up Christopher Nolan we get all his movies nicely stored in Movie namedtuple objects."
   ]
  },
  {
   "cell_type": "code",
   "execution_count": 6,
   "metadata": {},
   "outputs": [
    {
     "data": {
      "text/plain": [
       "[Movie(title='The Dark Knight Rises', year=2012, score=8.5),\n",
       " Movie(title='The Dark Knight', year=2008, score=9.0),\n",
       " Movie(title='Interstellar', year=2014, score=8.6),\n",
       " Movie(title='Inception', year=2010, score=8.8),\n",
       " Movie(title='Batman Begins', year=2005, score=8.3),\n",
       " Movie(title='Insomnia', year=2002, score=7.2),\n",
       " Movie(title='The Prestige', year=2006, score=8.5),\n",
       " Movie(title='Memento', year=2000, score=8.5)]"
      ]
     },
     "execution_count": 6,
     "metadata": {},
     "output_type": "execute_result"
    }
   ],
   "source": [
    "directors['Christopher Nolan']"
   ]
  },
  {
   "cell_type": "markdown",
   "metadata": {},
   "source": [
    "We don't want to re-invent the wheel so we use Counter:"
   ]
  },
  {
   "cell_type": "code",
   "execution_count": 7,
   "metadata": {},
   "outputs": [
    {
     "data": {
      "text/plain": [
       "[('Steven Spielberg', 26),\n",
       " ('Woody Allen', 22),\n",
       " ('Martin Scorsese', 20),\n",
       " ('Clint Eastwood', 20),\n",
       " ('Ridley Scott', 17)]"
      ]
     },
     "execution_count": 7,
     "metadata": {},
     "output_type": "execute_result"
    }
   ],
   "source": [
    "cnt = Counter()\n",
    "for director, movies in directors.items():\n",
    "    cnt[director] += len(movies)\n",
    "\n",
    "cnt.most_common(5)"
   ]
  }
 ],
 "metadata": {
  "kernelspec": {
   "display_name": "Python 3",
   "language": "python",
   "name": "python3"
  },
  "language_info": {
   "codemirror_mode": {
    "name": "ipython",
    "version": 3
   },
   "file_extension": ".py",
   "mimetype": "text/x-python",
   "name": "python",
   "nbconvert_exporter": "python",
   "pygments_lexer": "ipython3",
   "version": "3.8.5"
  }
 },
 "nbformat": 4,
 "nbformat_minor": 4
}
