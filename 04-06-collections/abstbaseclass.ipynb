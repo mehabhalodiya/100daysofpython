{
 "cells": [
  {
   "cell_type": "markdown",
   "metadata": {},
   "source": [
    "## Second day: Abstract Base Class (abc)"
   ]
  },
  {
   "cell_type": "markdown",
   "metadata": {},
   "source": [
    "The main goal of the abstract base class is to provide a standardized way to test whether an object adheres to a given specification. It can also prevent any attempt to instantiate a subclass that doesn’t override a particular method in the superclass. And finally, using an abstract class, a class can derive identity from another class without any object inheritance."
   ]
  },
  {
   "cell_type": "markdown",
   "metadata": {},
   "source": [
    "### Declaring an Abstract Base Class"
   ]
  },
  {
   "cell_type": "code",
   "execution_count": 1,
   "metadata": {},
   "outputs": [
    {
     "name": "stdout",
     "output_type": "stream",
     "text": [
      "<class 'dict'>\n"
     ]
    }
   ],
   "source": [
    "import abc \n",
    "  \n",
    "  \n",
    "class AbstractClass(metaclass=abc.ABCMeta): \n",
    "    def abstractfunc(self): \n",
    "        return None\n",
    "  \n",
    "  \n",
    "print(AbstractClass.register(dict)) "
   ]
  },
  {
   "cell_type": "markdown",
   "metadata": {},
   "source": [
    "Here, dict identifies itself as a subclass of AbstractClass.\n",
    "\n",
    "ABCMeta metaclass provides a method called register method that can be invoked by its instance. By using this register method, any abstract base class can become an ancestor of any arbitrary concrete class. Let’s understand this process by considering an example of an abstract base class that registers itself as an ancestor of dict.\n",
    "\n",
    "Let’s do a check."
   ]
  },
  {
   "cell_type": "code",
   "execution_count": 2,
   "metadata": {},
   "outputs": [
    {
     "name": "stdout",
     "output_type": "stream",
     "text": [
      "True\n"
     ]
    }
   ],
   "source": [
    "import abc \n",
    "  \n",
    "  \n",
    "class AbstractClass(metaclass=abc.ABCMeta): \n",
    "    def abstractfunc(self): \n",
    "        return None\n",
    "  \n",
    "  \n",
    "AbstractClass.register(dict) \n",
    "print(issubclass(dict, AbstractClass)) "
   ]
  },
  {
   "cell_type": "markdown",
   "metadata": {},
   "source": [
    "### Why Declare an Abstract Base Class?"
   ]
  },
  {
   "cell_type": "code",
   "execution_count": 3,
   "metadata": {},
   "outputs": [
    {
     "name": "stdout",
     "output_type": "stream",
     "text": [
      "List instance: True\n",
      "Tuple instance: True\n",
      "Object instance: False\n"
     ]
    }
   ],
   "source": [
    "import abc \n",
    "  \n",
    "  \n",
    "class MySequence(metaclass=abc.ABCMeta): \n",
    "    pass\n",
    "  \n",
    "MySequence.register(list) \n",
    "MySequence.register(tuple) \n",
    "  \n",
    "a = [1, 2, 3] \n",
    "b = ('x', 'y', 'z') \n",
    "  \n",
    "print('List instance:', isinstance(a, MySequence)) \n",
    "print('Tuple instance:', isinstance(b, MySequence)) \n",
    "print('Object instance:', isinstance(object(), MySequence)) "
   ]
  },
  {
   "cell_type": "markdown",
   "metadata": {},
   "source": [
    "As you can see, when you do isinstance check, it returns true for both the list and tuple; for the other objects, it returns false. But it can be achieved by creating a custom class and registering it with the abstract base class. \n",
    "\n",
    "Here ‘MySequence’ is an abstract class within the library."
   ]
  },
  {
   "cell_type": "code",
   "execution_count": 4,
   "metadata": {},
   "outputs": [
    {
     "name": "stdout",
     "output_type": "stream",
     "text": [
      "True\n"
     ]
    }
   ],
   "source": [
    "import abc \n",
    "  \n",
    "  \n",
    "class MySequence(metaclass=abc.ABCMeta): \n",
    "    pass\n",
    "  \n",
    "class CustomListLikeObjCls(object): \n",
    "    pass\n",
    "  \n",
    "MySequence.register(CustomListLikeObjCls) \n",
    "print(issubclass(CustomListLikeObjCls, MySequence)) "
   ]
  },
  {
   "cell_type": "markdown",
   "metadata": {},
   "source": [
    "Apart from the above method, you can also use the register method as a decorator to register a custom class. Let’s see how to use the register method as a decorator."
   ]
  },
  {
   "cell_type": "code",
   "execution_count": 5,
   "metadata": {},
   "outputs": [
    {
     "name": "stdout",
     "output_type": "stream",
     "text": [
      "True\n"
     ]
    }
   ],
   "source": [
    "import abc \n",
    "  \n",
    "  \n",
    "class MySequence(metaclass=abc.ABCMeta): \n",
    "    pass\n",
    "  \n",
    "@MySequence.register \n",
    "class CustomListLikeObjCls(object): \n",
    "    pass\n",
    "  \n",
    "print(issubclass(CustomListLikeObjCls, MySequence))"
   ]
  },
  {
   "cell_type": "markdown",
   "metadata": {},
   "source": [
    "### Abstract Properties"
   ]
  },
  {
   "cell_type": "markdown",
   "metadata": {},
   "source": [
    "We can use @property decorator and @abc.abstractmethod to declare properties as an abstract class."
   ]
  },
  {
   "cell_type": "code",
   "execution_count": 6,
   "metadata": {},
   "outputs": [
    {
     "name": "stdout",
     "output_type": "stream",
     "text": [
      "Abstract 1\n"
     ]
    }
   ],
   "source": [
    "import abc \n",
    "  \n",
    "  \n",
    "class AbstractClass(metaclass=abc.ABCMeta): \n",
    "    @property\n",
    "    @abc.abstractmethod \n",
    "    def abstractName(self): \n",
    "        pass\n",
    "  \n",
    "  \n",
    "class ValidSubClass(AbstractClass): \n",
    "    @property\n",
    "    def abstractName(self): \n",
    "        return 'Abstract 1'\n",
    "  \n",
    "  \n",
    "vc = ValidSubClass() \n",
    "print(vc.abstractName) "
   ]
  },
  {
   "cell_type": "markdown",
   "metadata": {},
   "source": [
    "### Built-in Abstract classes"
   ]
  },
  {
   "cell_type": "markdown",
   "metadata": {},
   "source": [
    "The main purpose of using Abstract class is that it allows you to consider a common type of collection rather than coding for each type of collection. Here we will discuss Single-Method ABCs and Alternative-Collection ABCs."
   ]
  },
  {
   "cell_type": "markdown",
   "metadata": {},
   "source": [
    "##### Single-Method ABCs"
   ]
  },
  {
   "cell_type": "markdown",
   "metadata": {},
   "source": [
    "They are as follows:\n",
    "\n",
    "Callable (__call__)\n",
    "Container (__contains__)\n",
    "Hashable (__hash__)\n",
    "Iterable (__iter__)\n",
    "Sized (__len__)"
   ]
  },
  {
   "cell_type": "markdown",
   "metadata": {},
   "source": [
    "Example:"
   ]
  },
  {
   "cell_type": "code",
   "execution_count": 7,
   "metadata": {},
   "outputs": [
    {
     "name": "stdout",
     "output_type": "stream",
     "text": [
      "True\n"
     ]
    }
   ],
   "source": [
    "from collections.abc import Sized \n",
    "  \n",
    "  \n",
    "class SingleMethod(object): \n",
    "    def __len__(self): \n",
    "        return 10\n",
    "  \n",
    "  \n",
    "print(issubclass(SingleMethod, Sized)) \n"
   ]
  },
  {
   "cell_type": "markdown",
   "metadata": {},
   "source": [
    "##### Alternative-Collection ABCs"
   ]
  },
  {
   "cell_type": "markdown",
   "metadata": {},
   "source": [
    "Sequence and Mutable Sequence: Sequence and Mutable Sequence are abstract base classes that generally behaves like tuples or list. A sequence abstract  base class requires __getitem__ and __len__ , whereas mutable sequence needs __setitem__ and __getitem__.\n",
    "\n",
    "Mapping: Mapping comes with mutable mapping, which is mainly for dictionary-like objects\n",
    "\n",
    "Set: The set comes with a mutable set that is intended for unordered collections."
   ]
  }
 ],
 "metadata": {
  "kernelspec": {
   "display_name": "Python 3",
   "language": "python",
   "name": "python3"
  },
  "language_info": {
   "codemirror_mode": {
    "name": "ipython",
    "version": 3
   },
   "file_extension": ".py",
   "mimetype": "text/x-python",
   "name": "python",
   "nbconvert_exporter": "python",
   "pygments_lexer": "ipython3",
   "version": "3.8.5"
  }
 },
 "nbformat": 4,
 "nbformat_minor": 4
}
